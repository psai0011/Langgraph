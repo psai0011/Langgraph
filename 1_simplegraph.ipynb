{
 "cells": [
  {
   "cell_type": "markdown",
   "id": "b57510ee",
   "metadata": {},
   "source": [
    "## Build the simple graph or workflow \n",
    "\n",
    "State \n",
    "\n",
    "First define the state of graph\n",
    "\n",
    "The state schema serves as imput schema for all nodes and Edges in graph\n",
    "\n",
    "Lets the TypeDict class form pythons typing moule as our schema, which provides type hints for the keys\n",
    "\n"
   ]
  },
  {
   "cell_type": "code",
   "execution_count": 1,
   "id": "f7fa727f",
   "metadata": {},
   "outputs": [],
   "source": [
    "from typing_extensions import TypedDict\n",
    "class state(TypedDict):\n",
    "    graph_info:str"
   ]
  },
  {
   "cell_type": "markdown",
   "id": "0bfee972",
   "metadata": {},
   "source": [
    "## nodes \n",
    "\n",
    "nodes are just python function \n",
    "\n",
    "the first postional arguement is the state , as defined above"
   ]
  },
  {
   "cell_type": "code",
   "execution_count": 2,
   "id": "9d06c770",
   "metadata": {},
   "outputs": [],
   "source": [
    "from typing import Dict\n",
    "\n",
    "def start_play(state: Dict) -> Dict:\n",
    "    print(\"Start the play has been called\")\n",
    "    return {\"graph_info\": state.get(\"graph_info\", \"\") + \"I am planning to play. \"}\n",
    "\n",
    "\n",
    "def cricket(state: Dict) -> Dict:\n",
    "    print(\"Cricket node has been called\")\n",
    "    return {\n",
    "        \"graph_info\": state.get(\"graph_info\", \"\") + \"Playing cricket. \"\n",
    "    }\n",
    "\n",
    "\n",
    "def badminton(state: Dict) -> Dict:\n",
    "    print(\"Badminton node has been called\")\n",
    "    return {\n",
    "        \"graph_info\": state.get(\"graph_info\", \"\") + \"Now playing badminton. \"\n",
    "    }\n"
   ]
  },
  {
   "cell_type": "code",
   "execution_count": 3,
   "id": "285d971b",
   "metadata": {},
   "outputs": [],
   "source": [
    "import random\n",
    "from typing import Dict, Literal\n",
    "\n",
    "def random_play(state: Dict) -> Literal['cricket', 'badminton']:\n",
    "    graph_info = state.get('graph_info', '')\n",
    "\n",
    "    if random.random() > 0.5:\n",
    "        return \"cricket\"\n",
    "    else:\n",
    "        return \"badminton\"\n"
   ]
  },
  {
   "cell_type": "code",
   "execution_count": 4,
   "id": "3801fb44",
   "metadata": {},
   "outputs": [
    {
     "name": "stdout",
     "output_type": "stream",
     "text": [
      "Requirement already satisfied: langgraph in c:\\users\\panth\\anaconda3\\lib\\site-packages (0.4.8)\n",
      "Requirement already satisfied: langchain-core>=0.1 in c:\\users\\panth\\anaconda3\\lib\\site-packages (from langgraph) (0.3.66)\n",
      "Requirement already satisfied: langgraph-checkpoint>=2.0.26 in c:\\users\\panth\\anaconda3\\lib\\site-packages (from langgraph) (2.1.0)\n",
      "Requirement already satisfied: langgraph-prebuilt>=0.2.0 in c:\\users\\panth\\anaconda3\\lib\\site-packages (from langgraph) (0.2.2)\n",
      "Requirement already satisfied: langgraph-sdk>=0.1.42 in c:\\users\\panth\\anaconda3\\lib\\site-packages (from langgraph) (0.1.70)\n",
      "Requirement already satisfied: pydantic>=2.7.4 in c:\\users\\panth\\anaconda3\\lib\\site-packages (from langgraph) (2.11.4)\n",
      "Requirement already satisfied: xxhash>=3.5.0 in c:\\users\\panth\\anaconda3\\lib\\site-packages (from langgraph) (3.5.0)\n",
      "Requirement already satisfied: langsmith>=0.3.45 in c:\\users\\panth\\anaconda3\\lib\\site-packages (from langchain-core>=0.1->langgraph) (0.4.1)\n",
      "Requirement already satisfied: tenacity!=8.4.0,<10.0.0,>=8.1.0 in c:\\users\\panth\\anaconda3\\lib\\site-packages (from langchain-core>=0.1->langgraph) (8.2.3)\n",
      "Requirement already satisfied: jsonpatch<2.0,>=1.33 in c:\\users\\panth\\anaconda3\\lib\\site-packages (from langchain-core>=0.1->langgraph) (1.33)\n",
      "Requirement already satisfied: PyYAML>=5.3 in c:\\users\\panth\\anaconda3\\lib\\site-packages (from langchain-core>=0.1->langgraph) (6.0.1)\n",
      "Requirement already satisfied: packaging<25,>=23.2 in c:\\users\\panth\\anaconda3\\lib\\site-packages (from langchain-core>=0.1->langgraph) (23.2)\n",
      "Requirement already satisfied: typing-extensions>=4.7 in c:\\users\\panth\\anaconda3\\lib\\site-packages (from langchain-core>=0.1->langgraph) (4.13.2)\n",
      "Requirement already satisfied: ormsgpack>=1.10.0 in c:\\users\\panth\\anaconda3\\lib\\site-packages (from langgraph-checkpoint>=2.0.26->langgraph) (1.10.0)\n",
      "Requirement already satisfied: httpx>=0.25.2 in c:\\users\\panth\\anaconda3\\lib\\site-packages (from langgraph-sdk>=0.1.42->langgraph) (0.27.0)\n",
      "Requirement already satisfied: orjson>=3.10.1 in c:\\users\\panth\\anaconda3\\lib\\site-packages (from langgraph-sdk>=0.1.42->langgraph) (3.10.12)\n",
      "Requirement already satisfied: annotated-types>=0.6.0 in c:\\users\\panth\\anaconda3\\lib\\site-packages (from pydantic>=2.7.4->langgraph) (0.6.0)\n",
      "Requirement already satisfied: pydantic-core==2.33.2 in c:\\users\\panth\\anaconda3\\lib\\site-packages (from pydantic>=2.7.4->langgraph) (2.33.2)\n",
      "Requirement already satisfied: typing-inspection>=0.4.0 in c:\\users\\panth\\anaconda3\\lib\\site-packages (from pydantic>=2.7.4->langgraph) (0.4.0)\n",
      "Requirement already satisfied: anyio in c:\\users\\panth\\anaconda3\\lib\\site-packages (from httpx>=0.25.2->langgraph-sdk>=0.1.42->langgraph) (4.8.0)\n",
      "Requirement already satisfied: certifi in c:\\users\\panth\\anaconda3\\lib\\site-packages (from httpx>=0.25.2->langgraph-sdk>=0.1.42->langgraph) (2024.8.30)\n",
      "Requirement already satisfied: httpcore==1.* in c:\\users\\panth\\anaconda3\\lib\\site-packages (from httpx>=0.25.2->langgraph-sdk>=0.1.42->langgraph) (1.0.2)\n",
      "Requirement already satisfied: idna in c:\\users\\panth\\anaconda3\\lib\\site-packages (from httpx>=0.25.2->langgraph-sdk>=0.1.42->langgraph) (3.7)\n",
      "Requirement already satisfied: sniffio in c:\\users\\panth\\anaconda3\\lib\\site-packages (from httpx>=0.25.2->langgraph-sdk>=0.1.42->langgraph) (1.3.0)\n",
      "Requirement already satisfied: h11<0.15,>=0.13 in c:\\users\\panth\\anaconda3\\lib\\site-packages (from httpcore==1.*->httpx>=0.25.2->langgraph-sdk>=0.1.42->langgraph) (0.14.0)\n",
      "Requirement already satisfied: jsonpointer>=1.9 in c:\\users\\panth\\anaconda3\\lib\\site-packages (from jsonpatch<2.0,>=1.33->langchain-core>=0.1->langgraph) (2.1)\n",
      "Requirement already satisfied: requests<3,>=2 in c:\\users\\panth\\anaconda3\\lib\\site-packages (from langsmith>=0.3.45->langchain-core>=0.1->langgraph) (2.32.3)\n",
      "Requirement already satisfied: requests-toolbelt<2.0.0,>=1.0.0 in c:\\users\\panth\\anaconda3\\lib\\site-packages (from langsmith>=0.3.45->langchain-core>=0.1->langgraph) (1.0.0)\n",
      "Requirement already satisfied: zstandard<0.24.0,>=0.23.0 in c:\\users\\panth\\anaconda3\\lib\\site-packages (from langsmith>=0.3.45->langchain-core>=0.1->langgraph) (0.23.0)\n",
      "Requirement already satisfied: charset-normalizer<4,>=2 in c:\\users\\panth\\anaconda3\\lib\\site-packages (from requests<3,>=2->langsmith>=0.3.45->langchain-core>=0.1->langgraph) (3.3.2)\n",
      "Requirement already satisfied: urllib3<3,>=1.21.1 in c:\\users\\panth\\anaconda3\\lib\\site-packages (from requests<3,>=2->langsmith>=0.3.45->langchain-core>=0.1->langgraph) (2.2.3)\n",
      "Note: you may need to restart the kernel to use updated packages.\n"
     ]
    }
   ],
   "source": [
    "pip install langgraph\n"
   ]
  },
  {
   "cell_type": "markdown",
   "id": "c730c102",
   "metadata": {},
   "source": [
    "Gragh Construction "
   ]
  },
  {
   "cell_type": "code",
   "execution_count": 5,
   "id": "cb2b8636",
   "metadata": {},
   "outputs": [
    {
     "data": {
      "text/plain": [
       "'---\\nconfig:\\n  flowchart:\\n    curve: linear\\n---\\ngraph TD;\\n\\t__start__([<p>__start__</p>]):::first\\n\\tstart_play(start_play)\\n\\tcricket(cricket)\\n\\tbadminton(badminton)\\n\\t__end__([<p>__end__</p>]):::last\\n\\t__start__ --> start_play;\\n\\tstart_play -.-> badminton;\\n\\tstart_play -.-> cricket;\\n\\tbadminton --> __end__;\\n\\tcricket --> __end__;\\n\\tclassDef default fill:#f2f0ff,line-height:1.2\\n\\tclassDef first fill-opacity:0\\n\\tclassDef last fill:#bfb6fc\\n'"
      ]
     },
     "metadata": {},
     "output_type": "display_data"
    },
    {
     "name": "stdout",
     "output_type": "stream",
     "text": [
      "Start the play has been called\n",
      "Cricket node has been called\n",
      "Final Output: I am planning to play. Playing cricket. \n"
     ]
    }
   ],
   "source": [
    "from pydantic import BaseModel\n",
    "from typing import Literal\n",
    "import random\n",
    "from IPython.display import display\n",
    "from langgraph.graph import StateGraph, START, END\n",
    "\n",
    "#  Step 1: Define state with BaseModel\n",
    "class State(BaseModel):\n",
    "    graph_info: str\n",
    "\n",
    "#  Step 2: Define your node functions\n",
    "def start_play(state: State) -> State:\n",
    "    print(\"Start the play has been called\")\n",
    "    state.graph_info += \"I am planning to play. \"\n",
    "    return state\n",
    "\n",
    "def cricket(state: State) -> State:\n",
    "    print(\"Cricket node has been called\")\n",
    "    state.graph_info += \"Playing cricket. \"\n",
    "    return state\n",
    "\n",
    "def badminton(state: State) -> State:\n",
    "    print(\"Badminton node has been called\")\n",
    "    state.graph_info += \"Now playing badminton. \"\n",
    "    return state\n",
    "\n",
    "def random_play(state: State) -> Literal[\"cricket\", \"badminton\"]:\n",
    "    return \"cricket\" if random.random() > 0.5 else \"badminton\"\n",
    "\n",
    "# Step 3: Build the graph\n",
    "graph = StateGraph(State)\n",
    "graph.add_node(\"start_play\", start_play)\n",
    "graph.add_node(\"cricket\", cricket)\n",
    "graph.add_node(\"badminton\", badminton)\n",
    "graph.add_edge(START, \"start_play\")\n",
    "graph.add_conditional_edges(\"start_play\", random_play)\n",
    "graph.add_edge(\"cricket\", END)\n",
    "graph.add_edge(\"badminton\", END)\n",
    "\n",
    "graph_builder = graph.compile()\n",
    "\n",
    "#  View the graph in Mermaid format (works in Jupyter/Colab)\n",
    "display(graph_builder.get_graph().draw_mermaid()) # Use draw(), not draw_svg()\n",
    "\n",
    "# Run the graph\n",
    "final_state = graph_builder.invoke(State(graph_info=\"\"))\n",
    "\n",
    "# Access result correctly\n",
    "print(\"Final Output:\", final_state[\"graph_info\"])"
   ]
  },
  {
   "cell_type": "code",
   "execution_count": 6,
   "id": "ccb38853",
   "metadata": {},
   "outputs": [
    {
     "name": "stdout",
     "output_type": "stream",
     "text": [
      "Requirement already satisfied: langgraph in c:\\users\\panth\\anaconda3\\lib\\site-packages (0.4.8)\n",
      "Requirement already satisfied: langchain-core>=0.1 in c:\\users\\panth\\anaconda3\\lib\\site-packages (from langgraph) (0.3.66)\n",
      "Requirement already satisfied: langgraph-checkpoint>=2.0.26 in c:\\users\\panth\\anaconda3\\lib\\site-packages (from langgraph) (2.1.0)\n",
      "Requirement already satisfied: langgraph-prebuilt>=0.2.0 in c:\\users\\panth\\anaconda3\\lib\\site-packages (from langgraph) (0.2.2)\n",
      "Requirement already satisfied: langgraph-sdk>=0.1.42 in c:\\users\\panth\\anaconda3\\lib\\site-packages (from langgraph) (0.1.70)\n",
      "Requirement already satisfied: pydantic>=2.7.4 in c:\\users\\panth\\anaconda3\\lib\\site-packages (from langgraph) (2.11.4)\n",
      "Requirement already satisfied: xxhash>=3.5.0 in c:\\users\\panth\\anaconda3\\lib\\site-packages (from langgraph) (3.5.0)\n",
      "Requirement already satisfied: langsmith>=0.3.45 in c:\\users\\panth\\anaconda3\\lib\\site-packages (from langchain-core>=0.1->langgraph) (0.4.1)\n",
      "Requirement already satisfied: tenacity!=8.4.0,<10.0.0,>=8.1.0 in c:\\users\\panth\\anaconda3\\lib\\site-packages (from langchain-core>=0.1->langgraph) (8.2.3)\n",
      "Requirement already satisfied: jsonpatch<2.0,>=1.33 in c:\\users\\panth\\anaconda3\\lib\\site-packages (from langchain-core>=0.1->langgraph) (1.33)\n",
      "Requirement already satisfied: PyYAML>=5.3 in c:\\users\\panth\\anaconda3\\lib\\site-packages (from langchain-core>=0.1->langgraph) (6.0.1)\n",
      "Requirement already satisfied: packaging<25,>=23.2 in c:\\users\\panth\\anaconda3\\lib\\site-packages (from langchain-core>=0.1->langgraph) (23.2)\n",
      "Requirement already satisfied: typing-extensions>=4.7 in c:\\users\\panth\\anaconda3\\lib\\site-packages (from langchain-core>=0.1->langgraph) (4.13.2)\n",
      "Requirement already satisfied: ormsgpack>=1.10.0 in c:\\users\\panth\\anaconda3\\lib\\site-packages (from langgraph-checkpoint>=2.0.26->langgraph) (1.10.0)\n",
      "Requirement already satisfied: httpx>=0.25.2 in c:\\users\\panth\\anaconda3\\lib\\site-packages (from langgraph-sdk>=0.1.42->langgraph) (0.27.0)\n",
      "Requirement already satisfied: orjson>=3.10.1 in c:\\users\\panth\\anaconda3\\lib\\site-packages (from langgraph-sdk>=0.1.42->langgraph) (3.10.12)\n",
      "Requirement already satisfied: annotated-types>=0.6.0 in c:\\users\\panth\\anaconda3\\lib\\site-packages (from pydantic>=2.7.4->langgraph) (0.6.0)\n",
      "Requirement already satisfied: pydantic-core==2.33.2 in c:\\users\\panth\\anaconda3\\lib\\site-packages (from pydantic>=2.7.4->langgraph) (2.33.2)\n",
      "Requirement already satisfied: typing-inspection>=0.4.0 in c:\\users\\panth\\anaconda3\\lib\\site-packages (from pydantic>=2.7.4->langgraph) (0.4.0)\n",
      "Requirement already satisfied: anyio in c:\\users\\panth\\anaconda3\\lib\\site-packages (from httpx>=0.25.2->langgraph-sdk>=0.1.42->langgraph) (4.8.0)\n",
      "Requirement already satisfied: certifi in c:\\users\\panth\\anaconda3\\lib\\site-packages (from httpx>=0.25.2->langgraph-sdk>=0.1.42->langgraph) (2024.8.30)\n",
      "Requirement already satisfied: httpcore==1.* in c:\\users\\panth\\anaconda3\\lib\\site-packages (from httpx>=0.25.2->langgraph-sdk>=0.1.42->langgraph) (1.0.2)\n",
      "Requirement already satisfied: idna in c:\\users\\panth\\anaconda3\\lib\\site-packages (from httpx>=0.25.2->langgraph-sdk>=0.1.42->langgraph) (3.7)\n",
      "Requirement already satisfied: sniffio in c:\\users\\panth\\anaconda3\\lib\\site-packages (from httpx>=0.25.2->langgraph-sdk>=0.1.42->langgraph) (1.3.0)\n",
      "Requirement already satisfied: h11<0.15,>=0.13 in c:\\users\\panth\\anaconda3\\lib\\site-packages (from httpcore==1.*->httpx>=0.25.2->langgraph-sdk>=0.1.42->langgraph) (0.14.0)\n",
      "Requirement already satisfied: jsonpointer>=1.9 in c:\\users\\panth\\anaconda3\\lib\\site-packages (from jsonpatch<2.0,>=1.33->langchain-core>=0.1->langgraph) (2.1)\n",
      "Requirement already satisfied: requests<3,>=2 in c:\\users\\panth\\anaconda3\\lib\\site-packages (from langsmith>=0.3.45->langchain-core>=0.1->langgraph) (2.32.3)\n",
      "Requirement already satisfied: requests-toolbelt<2.0.0,>=1.0.0 in c:\\users\\panth\\anaconda3\\lib\\site-packages (from langsmith>=0.3.45->langchain-core>=0.1->langgraph) (1.0.0)\n",
      "Requirement already satisfied: zstandard<0.24.0,>=0.23.0 in c:\\users\\panth\\anaconda3\\lib\\site-packages (from langsmith>=0.3.45->langchain-core>=0.1->langgraph) (0.23.0)\n",
      "Requirement already satisfied: charset-normalizer<4,>=2 in c:\\users\\panth\\anaconda3\\lib\\site-packages (from requests<3,>=2->langsmith>=0.3.45->langchain-core>=0.1->langgraph) (3.3.2)\n",
      "Requirement already satisfied: urllib3<3,>=1.21.1 in c:\\users\\panth\\anaconda3\\lib\\site-packages (from requests<3,>=2->langsmith>=0.3.45->langchain-core>=0.1->langgraph) (2.2.3)\n",
      "Note: you may need to restart the kernel to use updated packages.\n"
     ]
    }
   ],
   "source": [
    "pip install --upgrade langgraph\n"
   ]
  },
  {
   "cell_type": "code",
   "execution_count": 7,
   "id": "c41d2537",
   "metadata": {},
   "outputs": [
    {
     "name": "stdout",
     "output_type": "stream",
     "text": [
      "Start the play has been called\n",
      "Cricket node has been called\n"
     ]
    },
    {
     "data": {
      "text/plain": [
       "{'graph_info': 'hey my name is SaikiranI am planning to play. Playing cricket. '}"
      ]
     },
     "execution_count": 7,
     "metadata": {},
     "output_type": "execute_result"
    }
   ],
   "source": [
    "graph_builder.invoke({'graph_info':\"hey my name is Saikiran\"})"
   ]
  },
  {
   "cell_type": "code",
   "execution_count": null,
   "id": "4efbb688",
   "metadata": {},
   "outputs": [],
   "source": []
  },
  {
   "cell_type": "code",
   "execution_count": null,
   "id": "c69325d0",
   "metadata": {},
   "outputs": [],
   "source": []
  }
 ],
 "metadata": {
  "kernelspec": {
   "display_name": "base",
   "language": "python",
   "name": "python3"
  },
  "language_info": {
   "codemirror_mode": {
    "name": "ipython",
    "version": 3
   },
   "file_extension": ".py",
   "mimetype": "text/x-python",
   "name": "python",
   "nbconvert_exporter": "python",
   "pygments_lexer": "ipython3",
   "version": "3.12.7"
  }
 },
 "nbformat": 4,
 "nbformat_minor": 5
}
