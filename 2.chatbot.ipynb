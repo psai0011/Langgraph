{
 "cells": [
  {
   "cell_type": "markdown",
   "id": "7e41ec50",
   "metadata": {},
   "source": [
    "## Implementing the simple chat bot \n"
   ]
  },
  {
   "cell_type": "code",
   "execution_count": 1,
   "id": "80b500b5",
   "metadata": {},
   "outputs": [],
   "source": [
    "from typing_extensions import TypedDict\n",
    "from typing import Annotated\n",
    "\n",
    "from langgraph.graph import StateGraph, START, END\n",
    "from langgraph.graph.message import add_messages \n"
   ]
  },
  {
   "cell_type": "markdown",
   "id": "109f6037",
   "metadata": {},
   "source": [
    "Annotation is just used for the list of all messages will ad in list"
   ]
  },
  {
   "cell_type": "markdown",
   "id": "7ed2a590",
   "metadata": {},
   "source": [
    "All messages will be append in the list"
   ]
  },
  {
   "cell_type": "code",
   "execution_count": 2,
   "id": "d91e5e4d",
   "metadata": {},
   "outputs": [],
   "source": [
    "class State(TypedDict):\n",
    "    messages:Annotated[list, add_messages]"
   ]
  },
  {
   "cell_type": "code",
   "execution_count": 5,
   "id": "8ccc1234",
   "metadata": {},
   "outputs": [],
   "source": [
    "import os\n",
    "from dotenv import load_dotenv\n",
    "\n",
    "# Load variables from .env file into environment\n",
    "load_dotenv()\n",
    "\n",
    "# Ensure GROQ_API_KEY is available as an environment variable\n",
    "os.environ[\"GROQ_API_KEY\"] = os.getenv(\"GROQ_API_KEY\")\n"
   ]
  },
  {
   "cell_type": "code",
   "execution_count": 15,
   "id": "6e8beb90",
   "metadata": {},
   "outputs": [
    {
     "name": "stdout",
     "output_type": "stream",
     "text": [
      "Artificial Intelligence (AI) and Machine Learning (ML) are often used interchangeably, but they're not exactly the same thing. Here's a breakdown of the differences:\n",
      "\n",
      "**Artificial Intelligence (AI):**\n",
      "\n",
      "AI refers to the broader field of research and development aimed at creating machines that can perform tasks that typically require human intelligence, such as:\n",
      "\n",
      "1. Learning\n",
      "2. Problem-solving\n",
      "3. Reasoning\n",
      "4. Perception\n",
      "5. Understanding\n",
      "\n",
      "AI involves creating intelligent machines that can think, learn, and act like humans. The goal of AI is to create machines that can perform any intellectual task that a human can.\n",
      "\n",
      "**Machine Learning (ML):**\n",
      "\n",
      "Machine Learning is a subset of AI that specifically focuses on developing algorithms and statistical models that enable machines to learn from data, without being explicitly programmed.\n",
      "\n",
      "In other words, ML is a type of AI that allows systems to improve their performance on a task over time, based on the data they receive. This is achieved through various techniques, such as:\n",
      "\n",
      "1. Supervised learning\n",
      "2. Unsupervised learning\n",
      "3. Reinforcement learning\n",
      "\n",
      "ML is a key enabler of AI, as it allows systems to learn from data and improve their performance over time. However, not all AI systems use ML, and not all ML systems are necessarily AI.\n",
      "\n",
      "**Key differences:**\n",
      "\n",
      "1. **Scope:** AI is a broader field that encompasses a wide range of techniques, while ML is a specific subset of AI that focuses on machine learning.\n",
      "2. **Goals:** AI aims to create machines that can think and act like humans, while ML aims to develop algorithms that can learn from data and improve over time.\n",
      "3. **Approach:** AI involves a more general approach to creating intelligent machines, while ML involves a specific approach to achieving AI through machine learning.\n",
      "\n",
      "To illustrate the difference, consider a self-driving car:\n",
      "\n",
      "* AI is the overall system that enables the car to drive itself, including perception, decision-making, and control.\n",
      "* ML is a key component of the AI system that allows the car to learn from data, such as recognizing pedestrians, traffic signs, and road conditions, and improving its driving skills over time.\n",
      "\n",
      "In summary, AI is the overarching field that aims to create intelligent machines, while ML is a subset of AI that focuses on developing algorithms that enable machines to learn from data and improve over time.\n"
     ]
    }
   ],
   "source": [
    "from langchain_groq import ChatGroq\n",
    "import os\n",
    "from dotenv import load_dotenv\n",
    "\n",
    "# Load environment variables from .env file\n",
    "load_dotenv()\n",
    "\n",
    "# Use a different model: mixtral-8x7b-32768\n",
    "llm = ChatGroq(\n",
    "    model=\"llama3-70b-8192\",\n",
    "    api_key=os.getenv(\"GROQ_API_KEY\")\n",
    ")\n",
    "\n",
    "# Make a test call\n",
    "response = llm.invoke(\"What's the difference between AI and machine learning?\")\n",
    "print(response.content)\n"
   ]
  },
  {
   "cell_type": "markdown",
   "id": "d33604b7",
   "metadata": {},
   "source": [
    "# We will start the creating the nodes\n"
   ]
  },
  {
   "cell_type": "code",
   "execution_count": 18,
   "id": "515b314f",
   "metadata": {},
   "outputs": [],
   "source": [
    "def superbot(state:State):\n",
    "    return{\"messages\":[llm.invoke(state[\"messages\"])]}"
   ]
  },
  {
   "cell_type": "code",
   "execution_count": 20,
   "id": "29c74b7c",
   "metadata": {},
   "outputs": [
    {
     "data": {
      "image/png": "[encoded data removed]",
      "text/plain": [
       "<IPython.core.display.Image object>"
      ]
     },
     "metadata": {},
     "output_type": "display_data"
    }
   ],
   "source": [
    "graph = StateGraph(State)\n",
    "\n",
    "graph.add_node(\"superbot\", superbot)\n",
    "## Edges \n",
    "\n",
    "graph.add_edge(START, \"superbot\")\n",
    "graph.add_edge(\"superbot\", END)\n",
    "\n",
    "graph_builder = graph.compile()\n",
    "\n",
    "## Display the \n",
    "\n",
    "from IPython.display import Image, display\n",
    "display(Image(graph_builder.get_graph().draw_mermaid_png()))\n",
    "\n",
    "\n"
   ]
  },
  {
   "cell_type": "markdown",
   "id": "a8d44795",
   "metadata": {},
   "source": [
    "## Invocation\n",
    "\n"
   ]
  },
  {
   "cell_type": "code",
   "execution_count": 21,
   "id": "03b164bc",
   "metadata": {},
   "outputs": [
    {
     "data": {
      "text/plain": [
       "{'messages': [HumanMessage(content='Hi, my name is saikiran and i like cricket', additional_kwargs={}, response_metadata={}, id='2be5a599-f8f7-4715-8b92-8f72f1ac7e6b'),\n",
       "  AIMessage(content=\"Hi Saikiran! Nice to meet you! Cricket is an amazing sport, isn't it? Do you have a favorite team or player? Have you played cricket yourself or just enjoy watching it?\", additional_kwargs={}, response_metadata={'token_usage': {'completion_tokens': 41, 'prompt_tokens': 22, 'total_tokens': 63, 'completion_time': 0.117142857, 'prompt_time': 0.000374365, 'queue_time': 0.052380795, 'total_time': 0.117517222}, 'model_name': 'llama3-70b-8192', 'system_fingerprint': 'fp_dd4ae1c591', 'finish_reason': 'stop', 'logprobs': None}, id='run--9f086676-7c66-4284-b1f2-f719b1bc6fa4-0', usage_metadata={'input_tokens': 22, 'output_tokens': 41, 'total_tokens': 63})]}"
      ]
     },
     "execution_count": 21,
     "metadata": {},
     "output_type": "execute_result"
    }
   ],
   "source": [
    "graph_builder.invoke({'messages': \"Hi, my name is saikiran and i like cricket\"})"
   ]
  },
  {
   "cell_type": "markdown",
   "id": "5572b164",
   "metadata": {},
   "source": [
    "## Streaming the process"
   ]
  },
  {
   "cell_type": "code",
   "execution_count": 26,
   "id": "3a52db8d",
   "metadata": {},
   "outputs": [
    {
     "name": "stdout",
     "output_type": "stream",
     "text": [
      "{'messages': [HumanMessage(content='Hello whats up ?', additional_kwargs={}, response_metadata={}, id='d475a11e-1b46-43ee-af98-c7a637059d44')]}\n",
      "{'messages': [HumanMessage(content='Hello whats up ?', additional_kwargs={}, response_metadata={}, id='d475a11e-1b46-43ee-af98-c7a637059d44'), AIMessage(content=\"Hello! Not much, just hanging out and ready to chat. How about you? How's your day going so far?\", additional_kwargs={}, response_metadata={'token_usage': {'completion_tokens': 26, 'prompt_tokens': 14, 'total_tokens': 40, 'completion_time': 0.074285714, 'prompt_time': 0.000190517, 'queue_time': 0.053599832, 'total_time': 0.074476231}, 'model_name': 'llama3-70b-8192', 'system_fingerprint': 'fp_dd4ae1c591', 'finish_reason': 'stop', 'logprobs': None}, id='run--20466507-fd93-437e-a541-2db48620adc9-0', usage_metadata={'input_tokens': 14, 'output_tokens': 26, 'total_tokens': 40})]}\n"
     ]
    }
   ],
   "source": [
    "for event in graph_builder.stream({\"messages\": \"Hello whats up ?\"}, stream_mode=\"values\"):\n",
    "    print(event)"
   ]
  },
  {
   "cell_type": "code",
   "execution_count": 27,
   "id": "0f9794ba",
   "metadata": {},
   "outputs": [
    {
     "name": "stdout",
     "output_type": "stream",
     "text": [
      "{'superbot': {'messages': [AIMessage(content=\"Hello! Not much, just hanging out and waiting to chat with you! How about you? What's new and exciting in your world?\", additional_kwargs={}, response_metadata={'token_usage': {'completion_tokens': 29, 'prompt_tokens': 14, 'total_tokens': 43, 'completion_time': 0.112264122, 'prompt_time': 0.000182528, 'queue_time': 0.052811722, 'total_time': 0.11244665}, 'model_name': 'llama3-70b-8192', 'system_fingerprint': 'fp_dd4ae1c591', 'finish_reason': 'stop', 'logprobs': None}, id='run--1062e9de-bfca-4fa2-bb44-5fe5efe5b23c-0', usage_metadata={'input_tokens': 14, 'output_tokens': 29, 'total_tokens': 43})]}}\n"
     ]
    }
   ],
   "source": [
    "for event in graph_builder.stream({\"messages\": \"Hello whats up ?\"}, stream_mode=\"updates\"):\n",
    "    print(event)"
   ]
  },
  {
   "cell_type": "code",
   "execution_count": null,
   "id": "bd34b927",
   "metadata": {},
   "outputs": [],
   "source": []
  }
 ],
 "metadata": {
  "kernelspec": {
   "display_name": "langgraph_env",
   "language": "python",
   "name": "python3"
  },
  "language_info": {
   "codemirror_mode": {
    "name": "ipython",
    "version": 3
   },
   "file_extension": ".py",
   "mimetype": "text/x-python",
   "name": "python",
   "nbconvert_exporter": "python",
   "pygments_lexer": "ipython3",
   "version": "3.10.18"
  }
 },
 "nbformat": 4,
 "nbformat_minor": 5
}
